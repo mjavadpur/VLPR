{
  "cells": [
    {
      "attachments": {},
      "cell_type": "markdown",
      "metadata": {
        "id": "M74Gs_TjYl_B"
      },
      "source": [
        "[![Open In Colab](https://colab.research.google.com/assets/colab-badge.svg)](https://colab.research.google.com/github/mjavadpur/VLPR/blob/main/quick_demo.ipynb)"
      ]
    },
    {
      "attachments": {},
      "cell_type": "markdown",
      "metadata": {
        "id": "kA89DV-sKS4i"
      },
      "source": [
        "Installation (around 5 mins)"
      ]
    },
    {
      "cell_type": "code",
      "execution_count": null,
      "metadata": {},
      "outputs": [],
      "source": [
        "!git config --global user.name \"mjavadpur\"\n",
        "!git config --global user.email \"mjavadpur@gmail.com\""
      ]
    },
    {
      "cell_type": "code",
      "execution_count": null,
      "metadata": {},
      "outputs": [],
      "source": [
        "!git clone https://github.com/mjavadpur/VLPR.git\n",
        "%cd VLPR"
      ]
    },
    {
      "cell_type": "code",
      "execution_count": null,
      "metadata": {},
      "outputs": [],
      "source": [
        "!pip install -r requirements.txt"
      ]
    },
    {
      "cell_type": "code",
      "execution_count": null,
      "metadata": {},
      "outputs": [],
      "source": [
        "# !pip install gdown==4.7.0\n"
      ]
    },
    {
      "cell_type": "code",
      "execution_count": null,
      "metadata": {},
      "outputs": [],
      "source": [
        "import os\n",
        "output = '/content/VLPR/IO/output'\n",
        "if not os.path.exists(output):\n",
        "  os.mkdir(output)"
      ]
    },
    {
      "cell_type": "code",
      "execution_count": null,
      "metadata": {},
      "outputs": [],
      "source": [
        "import os\n",
        "output = '/content/VLPR/models'\n",
        "\n",
        "# List of Google Drive file URLs or IDs\n",
        "google_drive_urls = {\n",
        "    '19v_tDizNH7omRT5SSC1YDCRAxV3vd4OF': 'plate_detector.pb',\n",
        "    '13AEbinjer9dmqYsGNO5BdhtiuUNg0rvV': 'plate_recognizer.onnx',\n",
        "    '1AKpHKt9UERKwAsK8t9kMrALqfWwu3MH_': 'yolov3.cfg',\n",
        "    '18fpLr4SAlfkpr0eoAFeeyB_6vaEGwhyH': 'yolov3.weigths'\n",
        "    # Add more URLs or IDs as needed\n",
        "}\n",
        "\n",
        "if not os.path.exists(output):\n",
        "  os.mkdir(output)\n",
        "%cd {output}\n",
        "\n",
        "plate_detector_file_name = 'plate_detector.pb'\n",
        "plate_detectorAddress = os.path.join(output, plate_detector_file_name)\n",
        "if not os.path.exists(plate_detectorAddress):\n",
        "  !wget --no-check-certificate 'https://drive.google.com/uc?id=19v_tDizNH7omRT5SSC1YDCRAxV3vd4OF&export=download' -O {plate_detector_file_name}\n",
        "  \n",
        "plate_recognizer_file_name = 'plate_recognizer.onnx'\n",
        "plate_recognizerAddress = os.path.join(output, plate_recognizer_file_name)\n",
        "if not os.path.exists(plate_recognizerAddress):\n",
        "  !wget --no-check-certificate 'https://drive.google.com/uc?id=13AEbinjer9dmqYsGNO5BdhtiuUNg0rvV&export=download' -O {plate_recognizerAddress}\n",
        "  \n",
        "yolov3_cfg_file_name = 'yolov3.cfg'\n",
        "yolov3_cfgAddress = os.path.join(output, yolov3_cfg_file_name)\n",
        "if not os.path.exists(yolov3_cfgAddress):\n",
        "  !wget --no-check-certificate 'https://drive.google.com/uc?id=1AKpHKt9UERKwAsK8t9kMrALqfWwu3MH_&export=download' -O {yolov3_cfgAddress}\n",
        "  \n",
        "yolov3_weigths_file_name = 'yolov3.weigths'\n",
        "yolov3_weigthsAddress = os.path.join(output, yolov3_weigths_file_name)\n",
        "if not os.path.exists(yolov3_weigthsAddress):\n",
        "  !wget --no-check-certificate 'https://drive.google.com/uc?id=18fpLr4SAlfkpr0eoAFeeyB_6vaEGwhyH&export=download' -O {yolov3_weigthsAddress}\n",
        "  "
      ]
    },
    {
      "cell_type": "code",
      "execution_count": null,
      "metadata": {},
      "outputs": [],
      "source": [
        "# !git pull main origin\n"
      ]
    },
    {
      "cell_type": "code",
      "execution_count": null,
      "metadata": {},
      "outputs": [],
      "source": [
        "# !git config --global user.email \"mjavadpur@gmail.com\"\n",
        "# !git config --global user.name \"mjavadpur\"\n",
        "!git add .\n",
        "!git commit -m \"add models\"\n",
        "!git push https://ghp   _a8u9GgNNPDaBW      UMS2kWIDPqYRs2pEK0me7hr       @         github.com/mjavadpur/VLPR.git\n"
      ]
    },
    {
      "cell_type": "code",
      "execution_count": null,
      "metadata": {},
      "outputs": [],
      "source": [
        "!python /content/VLPR/python/inference_cli.py"
      ]
    },
    {
      "cell_type": "code",
      "execution_count": null,
      "metadata": {},
      "outputs": [],
      "source": [
        "!python /content/VLPR/python/inference_image.py\n"
      ]
    }
  ],
  "metadata": {
    "accelerator": "GPU",
    "colab": {
      "provenance": []
    },
    "gpuClass": "standard",
    "kernelspec": {
      "display_name": "base",
      "language": "python",
      "name": "python3"
    },
    "language_info": {
      "name": "python",
      "version": "3.9.7"
    },
    "vscode": {
      "interpreter": {
        "hash": "db5031b3636a3f037ea48eb287fd3d023feb9033aefc2a9652a92e470fb0851b"
      }
    }
  },
  "nbformat": 4,
  "nbformat_minor": 0
}
