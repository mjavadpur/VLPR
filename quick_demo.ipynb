{
  "cells": [
    {
      "attachments": {},
      "cell_type": "markdown",
      "metadata": {
        "id": "M74Gs_TjYl_B"
      },
      "source": [
        "[![Open In Colab](https://colab.research.google.com/assets/colab-badge.svg)](https://colab.research.google.com/github/mjavadpur/VLPR/blob/main/quick_demo.ipynb)"
      ]
    },
    {
      "attachments": {},
      "cell_type": "markdown",
      "metadata": {
        "id": "kA89DV-sKS4i"
      },
      "source": [
        "Installation (around 5 mins)"
      ]
    },
    {
      "cell_type": "code",
      "execution_count": null,
      "metadata": {},
      "outputs": [],
      "source": [
        "!git clone https://github.com/mjavadpur/VLPR.git\n",
        "%cd VLPR"
      ]
    },
    {
      "cell_type": "code",
      "execution_count": null,
      "metadata": {},
      "outputs": [],
      "source": [
        "!pip install -r requirements.txt"
      ]
    },
    {
      "cell_type": "code",
      "execution_count": null,
      "metadata": {},
      "outputs": [],
      "source": [
        "!pip install gdown"
      ]
    },
    {
      "cell_type": "code",
      "execution_count": null,
      "metadata": {},
      "outputs": [],
      "source": [
        "import gdown\n",
        "output = '/content/VLPR/models/'\n",
        "\n",
        "# List of Google Drive file URLs or IDs\n",
        "google_drive_urls = {\n",
        "    'https://drive.google.com/file/d/19v_tDizNH7omRT5SSC1YDCRAxV3vd4OF/view?usp=drive_link': 'plate_detector.pb',\n",
        "    'https://drive.google.com/file/d/13AEbinjer9dmqYsGNO5BdhtiuUNg0rvV/view?usp=drive_link': 'plate_recognizer.onnx',\n",
        "    'https://drive.google.com/file/d/1AKpHKt9UERKwAsK8t9kMrALqfWwu3MH_/view?usp=drive_link': 'yolov3.cfg',\n",
        "    'https://drive.google.com/file/d/18fpLr4SAlfkpr0eoAFeeyB_6vaEGwhyH/view?usp=drive_link': 'yolov3.weigths',\n",
        "    # Add more URLs or IDs as needed\n",
        "}\n",
        "\n",
        "# Iterate through each URL or ID and download the file\n",
        "for url, name in google_drive_urls.items():\n",
        "    # Extract file ID from URL if full URL is provided\n",
        "    file_id = url.split('/')[-2] if '/' in url else url\n",
        "\n",
        "    # Define a destination filename, optionally based on the file ID or a custom name\n",
        "    destination = f'{output}/{name}'\n",
        "\n",
        "    # Download the file\n",
        "    gdown.download(id=file_id, output=destination, quiet=False)\n"
      ]
    },
    {
      "cell_type": "code",
      "execution_count": null,
      "metadata": {},
      "outputs": [],
      "source": [
        "!python /content/VLPR/python/inference_cli.py"
      ]
    },
    {
      "cell_type": "code",
      "execution_count": null,
      "metadata": {},
      "outputs": [],
      "source": [
        "!python /content/VLPR/python/inference_image.py\n"
      ]
    }
  ],
  "metadata": {
    "accelerator": "GPU",
    "colab": {
      "provenance": []
    },
    "gpuClass": "standard",
    "kernelspec": {
      "display_name": "base",
      "language": "python",
      "name": "python3"
    },
    "language_info": {
      "name": "python",
      "version": "3.9.7"
    },
    "vscode": {
      "interpreter": {
        "hash": "db5031b3636a3f037ea48eb287fd3d023feb9033aefc2a9652a92e470fb0851b"
      }
    }
  },
  "nbformat": 4,
  "nbformat_minor": 0
}
